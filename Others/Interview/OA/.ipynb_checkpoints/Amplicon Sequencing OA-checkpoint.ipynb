{
 "cells": [
  {
   "cell_type": "markdown",
   "metadata": {},
   "source": [
    "# Amplicon Sequencing OA"
   ]
  },
  {
   "cell_type": "markdown",
   "metadata": {},
   "source": [
    "Jiahao Huang 03/31/2019\n",
    "<hr>"
   ]
  },
  {
   "cell_type": "markdown",
   "metadata": {},
   "source": [
    "**Q1: What is the constitution of each read, for example (adapter + primer + amplified region)?**\n",
    "<br>\n",
    "A: Because this is a amplicon sequencing workflow done with illumina MiSeq platform. The constitution of each read should be: sequencing adapter + index + primer of interest region + interest region\n",
    "<br>"
   ]
  },
  {
   "cell_type": "markdown",
   "metadata": {},
   "source": [
    "**Q2: Which gene region did those reads mapped to?**\n",
    "<br>\n",
    "A: In order to find out the mapped region, samtools is needed. Here are the commands and the comments of the workflow:\n",
    "\n",
    "```bash\n",
    "# Get the mapped reads from the original bam file and check the mapped reads number \n",
    "samtools view -F 4 -b aln.bam > aln_mapped.bam\n",
    "samtools view aln_mapped.bam | wc -l\n",
    "    1052983\n",
    "\n",
    "# Get a brief overview about mapped reads \n",
    "samtools view aln_mapped.bam | cut -f3 | sort | uniq -c | sort -nr\n",
    "993192 7\n",
    "29665 4\n",
    "8894 19\n",
    "3471 22\n",
    "2959 16\n",
    "1866 X\n",
    "1632 10\n",
    "1543 1\n",
    "1125 8\n",
    "1092 2\n",
    "1050 3\n",
    "1031 6\n",
    " 969 11\n",
    " 845 5\n",
    " 680 18\n",
    " 632 20\n",
    " 503 21\n",
    " 495 17\n",
    " 455 9\n",
    " 390 12\n",
    " 220 15\n",
    " 169 14\n",
    "  72 13\n",
    "  16 Y\n",
    "  12 GL000221.1\n",
    "   2 GL000228.1\n",
    "   2 GL000195.1\n",
    "   1 GL000192.1\n",
    "\n",
    "# Using htseq-count and hg19.gtf to find the mapped region \n",
    "htseq-count -f bam -m intersection-nonempty aln_mapped.bam Homo_sapiens.GRCh37.87.chr.gtf \\\n",
    "| awk '$2>0' | sort -k2 -n -r > exon_count\n",
    "\n",
    "# Check the exon_count \n",
    "head exon_count\n",
    "ENSG00000146648\t992439\n",
    "__no_feature\t49060\n",
    "__too_low_aQual\t1872\n",
    "ENSG00000179698\t301\n",
    "ENSG00000236117\t254\n",
    "ENSG00000006071\t73\n",
    "ENSG00000254858\t63\n",
    "ENSG00000240707\t56\n",
    "ENSG00000181143\t56\n",
    "ENSG00000110651\t49\n",
    "```\n",
    "<br>\n",
    "\n",
    "As for the results, there are 992439 reads, about 94.25% mapped reads, mapped to the gene ENSG00000146648. After checking this gene in IGV, I would like to conclude that most of the reads mapped to the EGFR gene on chr 7. \n",
    "\n",
    "![igv_result](img/igv_res.png)"
   ]
  },
  {
   "cell_type": "markdown",
   "metadata": {},
   "source": [
    "**Q3: What is the percentage of reads that were mapped to the human genome? Can you give some comments on the unmapped reads?**\n",
    "<br>\n",
    "A: As for the reads statistics, here are bash commands and related comments:\n",
    "```bash\n",
    "# Use bam_stat.py from Rse_QC to get an overview of the statistics\n",
    "bam_stat.py -i aln.bam\n",
    "Load BAM file ...  Done\n",
    "\n",
    "#==================================================\n",
    "#All numbers are READ count\n",
    "#==================================================\n",
    "\n",
    "Total records:                          1150004\n",
    "\n",
    "QC failed:                              0\n",
    "Optical/PCR duplicate:                  0\n",
    "Non primary hits                        0\n",
    "Unmapped reads:                         97021\n",
    "mapq < mapq_cut (non-unique):           20628\n",
    "\n",
    "mapq >= mapq_cut (unique):              1032355\n",
    "Read-1:                                 516655\n",
    "Read-2:                                 515700\n",
    "Reads map to '+':                       516713\n",
    "Reads map to '-':                       515642\n",
    "Non-splice reads:                       1032355\n",
    "Splice reads:                           0\n",
    "Reads mapped in proper pairs:           1030032\n",
    "Proper-paired reads map to different chrom:0\n",
    "\n",
    "# Get number of reads mapped to human genome \n",
    "samtools view aln_mapped.bam | cut -f3 | sort | uniq -c | sort -nr | grep -E \"([0-9]+)\\s([0-9]+|X|Y)\" | awk '{ sum += $1; } END { print sum; }' \"$@\"\n",
    "    1052966\n",
    "```\n",
    "So, there are 91.65% of total reads mapped to human genome. When it comes to the unmapped reads, they generally represent reads that failed to map unambiguously to known sequences. This will depend on a threshold (usually provided by the user) for alignment stringency.\n",
    "<br>"
   ]
  },
  {
   "cell_type": "markdown",
   "metadata": {},
   "source": [
    "**Q4: What is the coverage of each amplicons? Could you find any explanations or clues why the coverage varies among amplicons, especially for those with big differences?**\n",
    "<br>\n",
    "A: According to the provided primers and IGV, there are four exons related to the amplicons:\n",
    "Forward Primer --> Exon --> chr region \n",
    "1. TTGCCAGTTAACGTCTTCCTTCTCTCTCTG --> EGFR exon 19 --> chr7:55,241,584-55,241,737\n",
    "2. CCCTTGTCTCTGTGTTCTTGTCCCCCCCA --> EGFR exon 18 --> chr7:55,242,379-55,242,574\n",
    "3. TGATCTGTCCCTCACAGCAGGGTCTTCTCT --> EGFR exon 21 --> chr7:55,259,375-55,259,589\n",
    "4. CACACTGACGTGCCTCTCCCTCCCTCCA --> EGFR exon 2 --> chr7:55,248,957-55,249,194\n",
    "\n",
    "```bash \n",
    "# Construct the bed file with amplicon regions \n",
    "cat regions.bed \n",
    "7\t55241584\t55241737\n",
    "7\t55242379\t55242574\n",
    "7\t55259375\t55259589\n",
    "7\t55248957\t55249194\n",
    "\n",
    "# Get coverage using samtools \n",
    "samtools depth -b regions.bed aln.bam > samtool_coverage\n",
    "\n",
    "# Get per base coverage \n",
    "bedtools coverage -d -abam aln.bam -b regions.bed > base_coverage\n",
    "```\n",
    "\n",
    "Besides these methods mentioned above, I believe the most convenient way to explore the coverage is using the coverage track of IGV. Here are the screenshots for the four regions:\n",
    "\n",
    "![exon19](img/exon19.png)\n",
    "<br>\n",
    "![exon18](img/exon18.png)\n",
    "<br>\n",
    "![exon21](img/exon21.png)\n",
    "<br>\n",
    "![exon2](img/exon2.png)\n",
    "<br>"
   ]
  },
  {
   "cell_type": "markdown",
   "metadata": {},
   "source": [
    "**Q5: What variants/mutations can you identify from this data? How can you evaluate which variants is more real than others?**\n",
    "<br>\n",
    "A: \n",
    "<br>"
   ]
  },
  {
   "cell_type": "markdown",
   "metadata": {},
   "source": [
    "**Additional Analysis**\n",
    "<br>\n",
    "blah\n",
    "<hr>"
   ]
  }
 ],
 "metadata": {
  "kernelspec": {
   "display_name": "Python 2",
   "language": "python",
   "name": "python2"
  },
  "language_info": {
   "codemirror_mode": {
    "name": "ipython",
    "version": 2
   },
   "file_extension": ".py",
   "mimetype": "text/x-python",
   "name": "python",
   "nbconvert_exporter": "python",
   "pygments_lexer": "ipython2",
   "version": "2.7.14"
  }
 },
 "nbformat": 4,
 "nbformat_minor": 2
}
